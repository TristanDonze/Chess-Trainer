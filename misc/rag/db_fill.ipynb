{
 "cells": [
  {
   "cell_type": "code",
   "execution_count": null,
   "id": "e76840ea",
   "metadata": {},
   "outputs": [],
   "source": [
    "# db_fill.ipynb"
   ]
  },
  {
   "cell_type": "code",
   "execution_count": 1,
   "id": "a55180fd",
   "metadata": {},
   "outputs": [],
   "source": [
    "import os\n",
    "import re\n",
    "import yaml\n",
    "import json\n",
    "from pathlib import Path\n",
    "import weaviate\n",
    "from weaviate.classes.init import Auth\n",
    "from weaviate.classes.config import (\n",
    "    Configure,\n",
    "    Property,\n",
    "    DataType,\n",
    ")\n",
    "from dotenv import load_dotenv"
   ]
  },
  {
   "cell_type": "code",
   "execution_count": 2,
   "id": "94f209eb",
   "metadata": {},
   "outputs": [],
   "source": [
    "load_dotenv()\n",
    "openai_api_key = os.environ[\"OPENAI_API_KEY\"]\n",
    "weaviate_url = os.environ[\"WEAVIATE_REST_ENDPOINT\"]\n",
    "weaviate_api_key = os.environ[\"WEAVIATE_API_KEY\"]\n",
    "\n",
    "headers = {\n",
    "    \"X-OpenAI-Api-Key\": openai_api_key\n",
    "}"
   ]
  },
  {
   "cell_type": "code",
   "execution_count": 3,
   "id": "402887f5",
   "metadata": {},
   "outputs": [
    {
     "name": "stdout",
     "output_type": "stream",
     "text": [
      "Weaviate ready: True\n"
     ]
    }
   ],
   "source": [
    "client = weaviate.connect_to_weaviate_cloud(\n",
    "    cluster_url=weaviate_url,\n",
    "    auth_credentials=Auth.api_key(weaviate_api_key),\n",
    "    skip_init_checks=True,\n",
    "    headers=headers\n",
    ")\n",
    "print(\"Weaviate ready:\", client.is_ready())"
   ]
  },
  {
   "cell_type": "code",
   "execution_count": 4,
   "id": "586477e2",
   "metadata": {},
   "outputs": [],
   "source": [
    "def parse_markdown_file(path: Path):\n",
    "    text = path.read_text(encoding=\"utf-8\")\n",
    "    match = re.match(r\"---\\n(.*?)\\n---\\n(.*)\", text, re.DOTALL)\n",
    "    if not match:\n",
    "        return None\n",
    "    yaml_str, content = match.groups()\n",
    "    metadata = yaml.safe_load(yaml_str)\n",
    "    return {\n",
    "        \"metadata\": metadata,\n",
    "        \"content\": content.strip(),\n",
    "        \"file_path\": str(path)\n",
    "    }"
   ]
  },
  {
   "cell_type": "code",
   "execution_count": 5,
   "id": "d6b645da",
   "metadata": {},
   "outputs": [],
   "source": [
    "client.collections.create(\n",
    "    name=\"ChessKnowledgeBase\",\n",
    "    properties=[\n",
    "        Property(name=\"title\", data_type=DataType.TEXT),\n",
    "        Property(name=\"type\", data_type=DataType.TEXT),\n",
    "        Property(name=\"tags\", data_type=DataType.TEXT_ARRAY),\n",
    "        Property(name=\"content\", data_type=DataType.TEXT),\n",
    "    ],\n",
    "    vector_config=[\n",
    "        Configure.Vectors.text2vec_openai(\n",
    "            name=\"knowledge_note_chess\",\n",
    "            source_properties=[\"title\", \"type\", \"tags\", \"content\"],\n",
    "            model=\"text-embedding-3-large\",\n",
    "            dimensions=3072\n",
    "        )\n",
    "    ],\n",
    ")\n",
    "collection = client.collections.use(\"ChessKnowledgeBase\")"
   ]
  },
  {
   "cell_type": "code",
   "execution_count": 6,
   "id": "923bddd8",
   "metadata": {},
   "outputs": [],
   "source": [
    "# # # client.collections.delete(\"ChessKnowledgeBase\")"
   ]
  },
  {
   "cell_type": "code",
   "execution_count": 7,
   "id": "1c88ca9e",
   "metadata": {},
   "outputs": [
    {
     "name": "stdout",
     "output_type": "stream",
     "text": [
      "Number of files found: 273\n",
      "Import Finished.\n"
     ]
    }
   ],
   "source": [
    "base_dir = Path(\"chess-data/chess-knowledge-base\")\n",
    "\n",
    "all_files = list(base_dir.rglob(\"*.md\"))\n",
    "print(f\"Number of files found: {len(all_files)}\")\n",
    "with collection.batch.fixed_size(batch_size=100) as batch:\n",
    "    for f in all_files:\n",
    "        if \"games\" in f.parts:\n",
    "            continue\n",
    "        doc = parse_markdown_file(f)\n",
    "        if not doc:\n",
    "            continue\n",
    "        meta = doc[\"metadata\"]\n",
    "        batch.add_object(\n",
    "            properties={\n",
    "                \"title\": meta.get(\"title\"),\n",
    "                \"type\": meta.get(\"type\"),\n",
    "                \"tags\": meta.get(\"tags\", []),\n",
    "                # \"source_url\": meta.get(\"source_url\"),\n",
    "                # \"scraped_at\": meta.get(\"scraped_at\"),\n",
    "                # \"meta\": meta.get(\"meta\"),\n",
    "                \"content\": doc[\"content\"],\n",
    "                # \"file_path\": doc[\"file_path\"],\n",
    "            }\n",
    "        )\n",
    "        if batch.number_errors > 10:\n",
    "            print(\"Batch stopped due to too many errors.\")\n",
    "            break\n",
    "\n",
    "failed = collection.batch.failed_objects\n",
    "if failed:\n",
    "    print(\"Failed objects:\", len(failed))\n",
    "    print(failed[0])\n",
    "\n",
    "print(\"Import Finished.\")\n"
   ]
  },
  {
   "cell_type": "code",
   "execution_count": 8,
   "id": "8342e426",
   "metadata": {},
   "outputs": [
    {
     "name": "stdout",
     "output_type": "stream",
     "text": [
      "{\n",
      "  \"content\": \"# Be Careful with Pawn Structure\\n\\n## Explanation\\n\\nPawn structure influences the game's direction. Tight structures suggest defensive play, while spaced-out pawns indicate aggressive strategies.\",\n",
      "  \"type\": \"middlegame\",\n",
      "  \"tags\": [\n",
      "    \"Pawn Structure\"\n",
      "  ],\n",
      "  \"title\": \"Be Careful with Pawn Structure\"\n",
      "}\n",
      "{\n",
      "  \"title\": \"General Middlegame Ideas\",\n",
      "  \"type\": \"middlegame\",\n",
      "  \"tags\": [],\n",
      "  \"content\": \"# General Middlegame Ideas\\n\\n## Explanation\\n\\nStrategies to enhance your middlegame play include playing longer time controls, studying tactics, and understanding pawn structures and piece placement. It is also important to analyze your games without a chess engine to improve your understanding.\\n## Examples\\n\\n- Stop playing blitz and bullet; play longer time controls.\\n- Study tactics extensively.\\n- Double-check your moves for safety.\\n- Analyze your games without a chess engine.\\n- Understand pawn structures and piece placement in openings.\"\n",
      "}\n"
     ]
    }
   ],
   "source": [
    "response = collection.query.near_text(\n",
    "    query=\"Provide some middlegame advice reggarding pawn structures and piece activity.\",\n",
    "    limit=2\n",
    ")\n",
    "\n",
    "for obj in response.objects:\n",
    "    print(json.dumps(obj.properties, indent=2))"
   ]
  },
  {
   "cell_type": "code",
   "execution_count": null,
   "id": "10511ed5",
   "metadata": {},
   "outputs": [],
   "source": [
    " "
   ]
  }
 ],
 "metadata": {
  "kernelspec": {
   "display_name": "Python 3",
   "language": "python",
   "name": "python3"
  },
  "language_info": {
   "codemirror_mode": {
    "name": "ipython",
    "version": 3
   },
   "file_extension": ".py",
   "mimetype": "text/x-python",
   "name": "python",
   "nbconvert_exporter": "python",
   "pygments_lexer": "ipython3",
   "version": "3.12.5"
  }
 },
 "nbformat": 4,
 "nbformat_minor": 5
}
